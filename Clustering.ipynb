{
  "nbformat": 4,
  "nbformat_minor": 0,
  "metadata": {
    "colab": {
      "provenance": [],
      "authorship_tag": "ABX9TyMhyDbOMDFXkcpnWlpQMO6v",
      "include_colab_link": true
    },
    "kernelspec": {
      "name": "python3",
      "display_name": "Python 3"
    },
    "language_info": {
      "name": "python"
    }
  },
  "cells": [
    {
      "cell_type": "markdown",
      "metadata": {
        "id": "view-in-github",
        "colab_type": "text"
      },
      "source": [
        "<a href=\"https://colab.research.google.com/github/alicezil/38615-Lab-2/blob/main/Clustering.ipynb\" target=\"_parent\"><img src=\"https://colab.research.google.com/assets/colab-badge.svg\" alt=\"Open In Colab\"/></a>"
      ]
    },
    {
      "cell_type": "markdown",
      "source": [
        "#38615 Lab 2: Clustering"
      ],
      "metadata": {
        "id": "bU6h_ptCfqkn"
      }
    },
    {
      "cell_type": "markdown",
      "source": [
        "Tasks:\n",
        "1. Load the data and explore it.\n",
        "2. Perform k-means clustering. Determine the optimal number of clusters using e.g. elbow method.\n",
        "3. Perform clustering with different clustering methods implemented in Scikit Learn.\n",
        "4. Now, try clustering with another distance metric (e.g. Cosine, Jaccard, etc). Hint: Think whether the default distance metric is appropriate for your data or not.\n",
        "5. Visualize results using the dimensionality reduction (UMAP or tSNE) technique with respect to the cluster labels.\n",
        "6. Compare clustering results. Try to rationalize observed commonalities or differences with respect to clustering methods and distance metrics."
      ],
      "metadata": {
        "id": "LmjS48UKftxT"
      }
    },
    {
      "cell_type": "markdown",
      "source": [
        "#1. Loading the Data and Exploring It"
      ],
      "metadata": {
        "id": "THZeoi8bh0JE"
      }
    },
    {
      "cell_type": "markdown",
      "source": [
        "**1.1 Importing the necessary libraries**"
      ],
      "metadata": {
        "id": "sW5emih_iRRK"
      }
    },
    {
      "cell_type": "code",
      "execution_count": 7,
      "metadata": {
        "id": "L666PE79ewH3"
      },
      "outputs": [],
      "source": [
        "import pandas as pd\n",
        "import numpy as np\n",
        "import sklearn\n",
        "import seaborn as sns\n",
        "import matplotlib.pyplot as plt\n",
        "import scipy\n",
        "\n",
        "from sklearn import manifold\n",
        "from sklearn.preprocessing import StandardScaler\n",
        "from sklearn.cluster import KMeans\n",
        "from sklearn.cluster import DBSCAN\n",
        "from sklearn.metrics import accuracy_score\n",
        "\n",
        "%matplotlib inline \n",
        "sns.set(color_codes=True)"
      ]
    },
    {
      "cell_type": "markdown",
      "source": [
        "**1.2 Loading the data into the dataframe and complete basic data preparation**"
      ],
      "metadata": {
        "id": "cMh4BkE9fqi2"
      }
    },
    {
      "cell_type": "code",
      "source": [
        "df = pd.read_csv(\"/content/Lab2_clustering_dataset.csv\")\n",
        "df.shape"
      ],
      "metadata": {
        "colab": {
          "base_uri": "https://localhost:8080/"
        },
        "id": "WgomocmXicEQ",
        "outputId": "c3b19130-20a9-4525-a2e0-e181159c830a"
      },
      "execution_count": 8,
      "outputs": [
        {
          "output_type": "execute_result",
          "data": {
            "text/plain": [
              "(969, 1025)"
            ]
          },
          "metadata": {},
          "execution_count": 8
        }
      ]
    },
    {
      "cell_type": "code",
      "source": [
        "# removing duplicate rows if there are any\n",
        "df = df.drop_duplicates()    \n",
        "\n",
        "# dropping the missing values\n",
        "df = df.dropna()\n",
        "\n",
        "df.shape"
      ],
      "metadata": {
        "colab": {
          "base_uri": "https://localhost:8080/"
        },
        "id": "56hsZh-vi699",
        "outputId": "2357c089-d74c-47d0-dc22-481081031b0d"
      },
      "execution_count": 9,
      "outputs": [
        {
          "output_type": "execute_result",
          "data": {
            "text/plain": [
              "(969, 1025)"
            ]
          },
          "metadata": {},
          "execution_count": 9
        }
      ]
    },
    {
      "cell_type": "markdown",
      "source": [
        "As we can see above there were no duplicates or missing values. Let's take a look at the summary table to get a better sense of the data."
      ],
      "metadata": {
        "id": "JKX5e-ZJj24E"
      }
    },
    {
      "cell_type": "code",
      "source": [
        "df_summary = df.describe()\n",
        "df_summary.head(8) "
      ],
      "metadata": {
        "colab": {
          "base_uri": "https://localhost:8080/",
          "height": 394
        },
        "id": "uudAmwMgjbm5",
        "outputId": "c4ca355a-4239-4926-a0c4-38b99a134949"
      },
      "execution_count": 10,
      "outputs": [
        {
          "output_type": "execute_result",
          "data": {
            "text/plain": [
              "         D_0         D_1    D_2    D_3         D_4    D_5         D_6  \\\n",
              "count  969.0  969.000000  969.0  969.0  969.000000  969.0  969.000000   \n",
              "mean     1.0    0.900929    1.0    1.0    0.684211    1.0    0.764706   \n",
              "std      0.0    0.298912    0.0    0.0    0.465070    0.0    0.424402   \n",
              "min      1.0    0.000000    1.0    1.0    0.000000    1.0    0.000000   \n",
              "25%      1.0    1.000000    1.0    1.0    0.000000    1.0    1.000000   \n",
              "50%      1.0    1.000000    1.0    1.0    1.000000    1.0    1.000000   \n",
              "75%      1.0    1.000000    1.0    1.0    1.000000    1.0    1.000000   \n",
              "max      1.0    1.000000    1.0    1.0    1.000000    1.0    1.000000   \n",
              "\n",
              "             D_7         D_8         D_9  ...      D_1014      D_1015  D_1016  \\\n",
              "count  969.00000  969.000000  969.000000  ...  969.000000  969.000000   969.0   \n",
              "mean     0.68937    0.570691    0.373581  ...    0.860681    0.737874     1.0   \n",
              "std      0.46299    0.495233    0.484004  ...    0.346458    0.440018     0.0   \n",
              "min      0.00000    0.000000    0.000000  ...    0.000000    0.000000     1.0   \n",
              "25%      0.00000    0.000000    0.000000  ...    1.000000    0.000000     1.0   \n",
              "50%      1.00000    1.000000    0.000000  ...    1.000000    1.000000     1.0   \n",
              "75%      1.00000    1.000000    1.000000  ...    1.000000    1.000000     1.0   \n",
              "max      1.00000    1.000000    1.000000  ...    1.000000    1.000000     1.0   \n",
              "\n",
              "           D_1017      D_1018      D_1019      D_1020      D_1021      D_1022  \\\n",
              "count  969.000000  969.000000  969.000000  969.000000  969.000000  969.000000   \n",
              "mean     0.881321    0.854489    0.681115    0.553148    0.809082    0.821465   \n",
              "std      0.323577    0.352797    0.466285    0.497424    0.393228    0.383160   \n",
              "min      0.000000    0.000000    0.000000    0.000000    0.000000    0.000000   \n",
              "25%      1.000000    1.000000    0.000000    0.000000    1.000000    1.000000   \n",
              "50%      1.000000    1.000000    1.000000    1.000000    1.000000    1.000000   \n",
              "75%      1.000000    1.000000    1.000000    1.000000    1.000000    1.000000   \n",
              "max      1.000000    1.000000    1.000000    1.000000    1.000000    1.000000   \n",
              "\n",
              "           D_1023  \n",
              "count  969.000000  \n",
              "mean     0.912281  \n",
              "std      0.283032  \n",
              "min      0.000000  \n",
              "25%      1.000000  \n",
              "50%      1.000000  \n",
              "75%      1.000000  \n",
              "max      1.000000  \n",
              "\n",
              "[8 rows x 1024 columns]"
            ],
            "text/html": [
              "\n",
              "  <div id=\"df-5f5fb813-5782-4d0b-8754-1fd6eb3b72f6\">\n",
              "    <div class=\"colab-df-container\">\n",
              "      <div>\n",
              "<style scoped>\n",
              "    .dataframe tbody tr th:only-of-type {\n",
              "        vertical-align: middle;\n",
              "    }\n",
              "\n",
              "    .dataframe tbody tr th {\n",
              "        vertical-align: top;\n",
              "    }\n",
              "\n",
              "    .dataframe thead th {\n",
              "        text-align: right;\n",
              "    }\n",
              "</style>\n",
              "<table border=\"1\" class=\"dataframe\">\n",
              "  <thead>\n",
              "    <tr style=\"text-align: right;\">\n",
              "      <th></th>\n",
              "      <th>D_0</th>\n",
              "      <th>D_1</th>\n",
              "      <th>D_2</th>\n",
              "      <th>D_3</th>\n",
              "      <th>D_4</th>\n",
              "      <th>D_5</th>\n",
              "      <th>D_6</th>\n",
              "      <th>D_7</th>\n",
              "      <th>D_8</th>\n",
              "      <th>D_9</th>\n",
              "      <th>...</th>\n",
              "      <th>D_1014</th>\n",
              "      <th>D_1015</th>\n",
              "      <th>D_1016</th>\n",
              "      <th>D_1017</th>\n",
              "      <th>D_1018</th>\n",
              "      <th>D_1019</th>\n",
              "      <th>D_1020</th>\n",
              "      <th>D_1021</th>\n",
              "      <th>D_1022</th>\n",
              "      <th>D_1023</th>\n",
              "    </tr>\n",
              "  </thead>\n",
              "  <tbody>\n",
              "    <tr>\n",
              "      <th>count</th>\n",
              "      <td>969.0</td>\n",
              "      <td>969.000000</td>\n",
              "      <td>969.0</td>\n",
              "      <td>969.0</td>\n",
              "      <td>969.000000</td>\n",
              "      <td>969.0</td>\n",
              "      <td>969.000000</td>\n",
              "      <td>969.00000</td>\n",
              "      <td>969.000000</td>\n",
              "      <td>969.000000</td>\n",
              "      <td>...</td>\n",
              "      <td>969.000000</td>\n",
              "      <td>969.000000</td>\n",
              "      <td>969.0</td>\n",
              "      <td>969.000000</td>\n",
              "      <td>969.000000</td>\n",
              "      <td>969.000000</td>\n",
              "      <td>969.000000</td>\n",
              "      <td>969.000000</td>\n",
              "      <td>969.000000</td>\n",
              "      <td>969.000000</td>\n",
              "    </tr>\n",
              "    <tr>\n",
              "      <th>mean</th>\n",
              "      <td>1.0</td>\n",
              "      <td>0.900929</td>\n",
              "      <td>1.0</td>\n",
              "      <td>1.0</td>\n",
              "      <td>0.684211</td>\n",
              "      <td>1.0</td>\n",
              "      <td>0.764706</td>\n",
              "      <td>0.68937</td>\n",
              "      <td>0.570691</td>\n",
              "      <td>0.373581</td>\n",
              "      <td>...</td>\n",
              "      <td>0.860681</td>\n",
              "      <td>0.737874</td>\n",
              "      <td>1.0</td>\n",
              "      <td>0.881321</td>\n",
              "      <td>0.854489</td>\n",
              "      <td>0.681115</td>\n",
              "      <td>0.553148</td>\n",
              "      <td>0.809082</td>\n",
              "      <td>0.821465</td>\n",
              "      <td>0.912281</td>\n",
              "    </tr>\n",
              "    <tr>\n",
              "      <th>std</th>\n",
              "      <td>0.0</td>\n",
              "      <td>0.298912</td>\n",
              "      <td>0.0</td>\n",
              "      <td>0.0</td>\n",
              "      <td>0.465070</td>\n",
              "      <td>0.0</td>\n",
              "      <td>0.424402</td>\n",
              "      <td>0.46299</td>\n",
              "      <td>0.495233</td>\n",
              "      <td>0.484004</td>\n",
              "      <td>...</td>\n",
              "      <td>0.346458</td>\n",
              "      <td>0.440018</td>\n",
              "      <td>0.0</td>\n",
              "      <td>0.323577</td>\n",
              "      <td>0.352797</td>\n",
              "      <td>0.466285</td>\n",
              "      <td>0.497424</td>\n",
              "      <td>0.393228</td>\n",
              "      <td>0.383160</td>\n",
              "      <td>0.283032</td>\n",
              "    </tr>\n",
              "    <tr>\n",
              "      <th>min</th>\n",
              "      <td>1.0</td>\n",
              "      <td>0.000000</td>\n",
              "      <td>1.0</td>\n",
              "      <td>1.0</td>\n",
              "      <td>0.000000</td>\n",
              "      <td>1.0</td>\n",
              "      <td>0.000000</td>\n",
              "      <td>0.00000</td>\n",
              "      <td>0.000000</td>\n",
              "      <td>0.000000</td>\n",
              "      <td>...</td>\n",
              "      <td>0.000000</td>\n",
              "      <td>0.000000</td>\n",
              "      <td>1.0</td>\n",
              "      <td>0.000000</td>\n",
              "      <td>0.000000</td>\n",
              "      <td>0.000000</td>\n",
              "      <td>0.000000</td>\n",
              "      <td>0.000000</td>\n",
              "      <td>0.000000</td>\n",
              "      <td>0.000000</td>\n",
              "    </tr>\n",
              "    <tr>\n",
              "      <th>25%</th>\n",
              "      <td>1.0</td>\n",
              "      <td>1.000000</td>\n",
              "      <td>1.0</td>\n",
              "      <td>1.0</td>\n",
              "      <td>0.000000</td>\n",
              "      <td>1.0</td>\n",
              "      <td>1.000000</td>\n",
              "      <td>0.00000</td>\n",
              "      <td>0.000000</td>\n",
              "      <td>0.000000</td>\n",
              "      <td>...</td>\n",
              "      <td>1.000000</td>\n",
              "      <td>0.000000</td>\n",
              "      <td>1.0</td>\n",
              "      <td>1.000000</td>\n",
              "      <td>1.000000</td>\n",
              "      <td>0.000000</td>\n",
              "      <td>0.000000</td>\n",
              "      <td>1.000000</td>\n",
              "      <td>1.000000</td>\n",
              "      <td>1.000000</td>\n",
              "    </tr>\n",
              "    <tr>\n",
              "      <th>50%</th>\n",
              "      <td>1.0</td>\n",
              "      <td>1.000000</td>\n",
              "      <td>1.0</td>\n",
              "      <td>1.0</td>\n",
              "      <td>1.000000</td>\n",
              "      <td>1.0</td>\n",
              "      <td>1.000000</td>\n",
              "      <td>1.00000</td>\n",
              "      <td>1.000000</td>\n",
              "      <td>0.000000</td>\n",
              "      <td>...</td>\n",
              "      <td>1.000000</td>\n",
              "      <td>1.000000</td>\n",
              "      <td>1.0</td>\n",
              "      <td>1.000000</td>\n",
              "      <td>1.000000</td>\n",
              "      <td>1.000000</td>\n",
              "      <td>1.000000</td>\n",
              "      <td>1.000000</td>\n",
              "      <td>1.000000</td>\n",
              "      <td>1.000000</td>\n",
              "    </tr>\n",
              "    <tr>\n",
              "      <th>75%</th>\n",
              "      <td>1.0</td>\n",
              "      <td>1.000000</td>\n",
              "      <td>1.0</td>\n",
              "      <td>1.0</td>\n",
              "      <td>1.000000</td>\n",
              "      <td>1.0</td>\n",
              "      <td>1.000000</td>\n",
              "      <td>1.00000</td>\n",
              "      <td>1.000000</td>\n",
              "      <td>1.000000</td>\n",
              "      <td>...</td>\n",
              "      <td>1.000000</td>\n",
              "      <td>1.000000</td>\n",
              "      <td>1.0</td>\n",
              "      <td>1.000000</td>\n",
              "      <td>1.000000</td>\n",
              "      <td>1.000000</td>\n",
              "      <td>1.000000</td>\n",
              "      <td>1.000000</td>\n",
              "      <td>1.000000</td>\n",
              "      <td>1.000000</td>\n",
              "    </tr>\n",
              "    <tr>\n",
              "      <th>max</th>\n",
              "      <td>1.0</td>\n",
              "      <td>1.000000</td>\n",
              "      <td>1.0</td>\n",
              "      <td>1.0</td>\n",
              "      <td>1.000000</td>\n",
              "      <td>1.0</td>\n",
              "      <td>1.000000</td>\n",
              "      <td>1.00000</td>\n",
              "      <td>1.000000</td>\n",
              "      <td>1.000000</td>\n",
              "      <td>...</td>\n",
              "      <td>1.000000</td>\n",
              "      <td>1.000000</td>\n",
              "      <td>1.0</td>\n",
              "      <td>1.000000</td>\n",
              "      <td>1.000000</td>\n",
              "      <td>1.000000</td>\n",
              "      <td>1.000000</td>\n",
              "      <td>1.000000</td>\n",
              "      <td>1.000000</td>\n",
              "      <td>1.000000</td>\n",
              "    </tr>\n",
              "  </tbody>\n",
              "</table>\n",
              "<p>8 rows × 1024 columns</p>\n",
              "</div>\n",
              "      <button class=\"colab-df-convert\" onclick=\"convertToInteractive('df-5f5fb813-5782-4d0b-8754-1fd6eb3b72f6')\"\n",
              "              title=\"Convert this dataframe to an interactive table.\"\n",
              "              style=\"display:none;\">\n",
              "        \n",
              "  <svg xmlns=\"http://www.w3.org/2000/svg\" height=\"24px\"viewBox=\"0 0 24 24\"\n",
              "       width=\"24px\">\n",
              "    <path d=\"M0 0h24v24H0V0z\" fill=\"none\"/>\n",
              "    <path d=\"M18.56 5.44l.94 2.06.94-2.06 2.06-.94-2.06-.94-.94-2.06-.94 2.06-2.06.94zm-11 1L8.5 8.5l.94-2.06 2.06-.94-2.06-.94L8.5 2.5l-.94 2.06-2.06.94zm10 10l.94 2.06.94-2.06 2.06-.94-2.06-.94-.94-2.06-.94 2.06-2.06.94z\"/><path d=\"M17.41 7.96l-1.37-1.37c-.4-.4-.92-.59-1.43-.59-.52 0-1.04.2-1.43.59L10.3 9.45l-7.72 7.72c-.78.78-.78 2.05 0 2.83L4 21.41c.39.39.9.59 1.41.59.51 0 1.02-.2 1.41-.59l7.78-7.78 2.81-2.81c.8-.78.8-2.07 0-2.86zM5.41 20L4 18.59l7.72-7.72 1.47 1.35L5.41 20z\"/>\n",
              "  </svg>\n",
              "      </button>\n",
              "      \n",
              "  <style>\n",
              "    .colab-df-container {\n",
              "      display:flex;\n",
              "      flex-wrap:wrap;\n",
              "      gap: 12px;\n",
              "    }\n",
              "\n",
              "    .colab-df-convert {\n",
              "      background-color: #E8F0FE;\n",
              "      border: none;\n",
              "      border-radius: 50%;\n",
              "      cursor: pointer;\n",
              "      display: none;\n",
              "      fill: #1967D2;\n",
              "      height: 32px;\n",
              "      padding: 0 0 0 0;\n",
              "      width: 32px;\n",
              "    }\n",
              "\n",
              "    .colab-df-convert:hover {\n",
              "      background-color: #E2EBFA;\n",
              "      box-shadow: 0px 1px 2px rgba(60, 64, 67, 0.3), 0px 1px 3px 1px rgba(60, 64, 67, 0.15);\n",
              "      fill: #174EA6;\n",
              "    }\n",
              "\n",
              "    [theme=dark] .colab-df-convert {\n",
              "      background-color: #3B4455;\n",
              "      fill: #D2E3FC;\n",
              "    }\n",
              "\n",
              "    [theme=dark] .colab-df-convert:hover {\n",
              "      background-color: #434B5C;\n",
              "      box-shadow: 0px 1px 3px 1px rgba(0, 0, 0, 0.15);\n",
              "      filter: drop-shadow(0px 1px 2px rgba(0, 0, 0, 0.3));\n",
              "      fill: #FFFFFF;\n",
              "    }\n",
              "  </style>\n",
              "\n",
              "      <script>\n",
              "        const buttonEl =\n",
              "          document.querySelector('#df-5f5fb813-5782-4d0b-8754-1fd6eb3b72f6 button.colab-df-convert');\n",
              "        buttonEl.style.display =\n",
              "          google.colab.kernel.accessAllowed ? 'block' : 'none';\n",
              "\n",
              "        async function convertToInteractive(key) {\n",
              "          const element = document.querySelector('#df-5f5fb813-5782-4d0b-8754-1fd6eb3b72f6');\n",
              "          const dataTable =\n",
              "            await google.colab.kernel.invokeFunction('convertToInteractive',\n",
              "                                                     [key], {});\n",
              "          if (!dataTable) return;\n",
              "\n",
              "          const docLinkHtml = 'Like what you see? Visit the ' +\n",
              "            '<a target=\"_blank\" href=https://colab.research.google.com/notebooks/data_table.ipynb>data table notebook</a>'\n",
              "            + ' to learn more about interactive tables.';\n",
              "          element.innerHTML = '';\n",
              "          dataTable['output_type'] = 'display_data';\n",
              "          await google.colab.output.renderOutput(dataTable, element);\n",
              "          const docLink = document.createElement('div');\n",
              "          docLink.innerHTML = docLinkHtml;\n",
              "          element.appendChild(docLink);\n",
              "        }\n",
              "      </script>\n",
              "    </div>\n",
              "  </div>\n",
              "  "
            ]
          },
          "metadata": {},
          "execution_count": 10
        }
      ]
    },
    {
      "cell_type": "markdown",
      "source": [
        "There are multiple columns where the standard deviation is 0 implying that the entire column has the same value (in this case 1.0). These columns are entirely uhelpful in our data analysis and therefore can be eliminated. Let's do so:"
      ],
      "metadata": {
        "id": "5qUzeUHWi1XY"
      }
    },
    {
      "cell_type": "code",
      "source": [
        "#removing the columns that contain the same value in every row\n",
        "for col in df_summary:\n",
        "    if df_summary[col]['std'] == 0:\n",
        "      df = df.drop([col],axis=1)\n",
        "\n",
        "df.shape"
      ],
      "metadata": {
        "colab": {
          "base_uri": "https://localhost:8080/"
        },
        "id": "fXoCnVlwk9w6",
        "outputId": "d3c0e34d-9304-450c-b0bd-263e67458b2b"
      },
      "execution_count": 11,
      "outputs": [
        {
          "output_type": "execute_result",
          "data": {
            "text/plain": [
              "(969, 951)"
            ]
          },
          "metadata": {},
          "execution_count": 11
        }
      ]
    },
    {
      "cell_type": "markdown",
      "source": [
        "Next let's construct a correlation matrix and remove highly correlated variables:"
      ],
      "metadata": {
        "id": "QFFNA8x0nITM"
      }
    },
    {
      "cell_type": "code",
      "source": [
        "#create correlation matrix\n",
        "corr_matrix = df.corr().abs()\n",
        "\n",
        "#isolate upper triangle (for lack of repetition)\n",
        "upper_triangle = corr_matrix.where((np.triu(np.ones(corr_matrix.shape), k=1) + \n",
        "                           np.tril(np.ones(corr_matrix.shape), k=-1)).astype(bool))\n",
        "\n",
        "#make a list of columns with correlation larger than .95\n",
        "drop_list = []\n",
        "for col in upper_triangle.columns:\n",
        "  if any(upper_triangle[col] > 0.95):\n",
        "    drop_list.append(col)\n",
        "\n",
        "#drop all the columns from the list\n",
        "df.drop(drop_list, axis=1, inplace=True)\n",
        "\n",
        "df.shape"
      ],
      "metadata": {
        "colab": {
          "base_uri": "https://localhost:8080/"
        },
        "id": "4LUkhPUenUrD",
        "outputId": "12d79926-57b1-4c11-9213-6c327bfbcf3e"
      },
      "execution_count": 12,
      "outputs": [
        {
          "output_type": "execute_result",
          "data": {
            "text/plain": [
              "(969, 913)"
            ]
          },
          "metadata": {},
          "execution_count": 12
        }
      ]
    }
  ]
}